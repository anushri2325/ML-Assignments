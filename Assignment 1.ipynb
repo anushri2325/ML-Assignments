{
 "cells": [
  {
   "cell_type": "code",
   "execution_count": 2,
   "metadata": {},
   "outputs": [
    {
     "name": "stdout",
     "output_type": "stream",
     "text": [
      "['Hi', 'there', 'Class!']\n"
     ]
    }
   ],
   "source": [
    "def split(word):\n",
    "    return [char for char in word]\n",
    "s=\"Hi there Class!\"\n",
    "#print(split(s))\n",
    "print(s.split())"
   ]
  },
  {
   "cell_type": "code",
   "execution_count": 3,
   "metadata": {},
   "outputs": [
    {
     "name": "stdout",
     "output_type": "stream",
     "text": [
      "The diameter of Earth is 12742\n"
     ]
    }
   ],
   "source": [
    "planet=\"Earth\"\n",
    "diameter=12742\n",
    "\n",
    "print(f'The diameter of {planet} is {diameter}')"
   ]
  },
  {
   "cell_type": "code",
   "execution_count": 5,
   "metadata": {},
   "outputs": [
    {
     "name": "stdout",
     "output_type": "stream",
     "text": [
      "['hello']\n"
     ]
    }
   ],
   "source": [
    "lst=[1,2,[3,4],[5,[100,200,['hello']],23,11],1,7]\n",
    "print(lst[3][1][2])"
   ]
  },
  {
   "cell_type": "code",
   "execution_count": 22,
   "metadata": {},
   "outputs": [
    {
     "name": "stdout",
     "output_type": "stream",
     "text": [
      "hello\n"
     ]
    }
   ],
   "source": [
    "d={'k1':[1,2,3,{'tricky':['oh','man','inception',{'target':[1,2,3,'hello']}]}]}\n",
    "print(d['k1'][3]['tricky'][3]['target'][3])"
   ]
  },
  {
   "cell_type": "code",
   "execution_count": null,
   "metadata": {},
   "outputs": [],
   "source": []
  },
  {
   "cell_type": "code",
   "execution_count": null,
   "metadata": {},
   "outputs": [],
   "source": [
    "def domainGet(email):\n",
    "    print(\"YOUR DOAMIN IS: \" + email.split('@')[-1])\n",
    "email=input(\"PLEASE ENTER YOUR EMAIL:>\")\n",
    "domainGet(email)"
   ]
  },
  {
   "cell_type": "code",
   "execution_count": null,
   "metadata": {},
   "outputs": [],
   "source": [
    "def finddog(line):\n",
    "    if 'dog' in line.lower():\n",
    "        print(\"TRUE\")\n",
    "    else:\n",
    "        print(\"FALSE\")\n",
    "line=\"there was a street dog romaing outside\"\n",
    "finddog(line)\n",
    "line2=\"thapar university\"\n",
    "finddog(line2)"
   ]
  },
  {
   "cell_type": "code",
   "execution_count": null,
   "metadata": {},
   "outputs": [],
   "source": []
  },
  {
   "cell_type": "code",
   "execution_count": null,
   "metadata": {},
   "outputs": [],
   "source": []
  },
  {
   "cell_type": "code",
   "execution_count": 28,
   "metadata": {},
   "outputs": [
    {
     "name": "stdout",
     "output_type": "stream",
     "text": [
      "['MY', 'NAME', 'IS', 'Ajay']\n"
     ]
    }
   ],
   "source": [
    "list1=[\"M\",\"NA\",\"I\",\"Aj\"]\n",
    "list2=[\"Y\",\"ME\",\"S\",\"ay\"]\n",
    "final=list(map(lambda i, j : i + j, list1, list2))\n",
    "print(final)"
   ]
  },
  {
   "cell_type": "code",
   "execution_count": 26,
   "metadata": {},
   "outputs": [
    {
     "name": "stdout",
     "output_type": "stream",
     "text": [
      "['hi maam', 'dear sir', 'hi sir', 'dear maam']\n"
     ]
    }
   ],
   "source": [
    "list1=[\"hi\",\"dear\"]\n",
    "list2=[\" maam\",\" sir\"]\n",
    "final=list(map(lambda i,j: i + j,list1, list2))\n",
    "fina= list(map(lambda i,j: i + j,list1, reversed(list2)))\n",
    "fnal_=final+fina\n",
    "print(fnal_)"
   ]
  },
  {
   "cell_type": "code",
   "execution_count": 27,
   "metadata": {},
   "outputs": [
    {
     "name": "stdout",
     "output_type": "stream",
     "text": [
      "['hi maam', 'hi sir', 'dear maam', 'dear sir']\n"
     ]
    }
   ],
   "source": [
    "list1=[\"hi\",\"dear\"]\n",
    "list2=[\" maam\",\" sir\"]\n",
    "final=[]\n",
    "for i in list1:\n",
    "    ans=map(lambda y:i+ \"\"+ y,list2)\n",
    "    final+=list(ans)\n",
    "    \n",
    "print(final)"
   ]
  },
  {
   "cell_type": "code",
   "execution_count": null,
   "metadata": {},
   "outputs": [],
   "source": []
  }
 ],
 "metadata": {
  "kernelspec": {
   "display_name": "Python 3",
   "language": "python",
   "name": "python3"
  },
  "language_info": {
   "codemirror_mode": {
    "name": "ipython",
    "version": 3
   },
   "file_extension": ".py",
   "mimetype": "text/x-python",
   "name": "python",
   "nbconvert_exporter": "python",
   "pygments_lexer": "ipython3",
   "version": "3.8.5"
  }
 },
 "nbformat": 4,
 "nbformat_minor": 4
}
