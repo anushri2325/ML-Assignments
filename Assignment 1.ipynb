{
 "cells": [
  {
   "cell_type": "markdown",
   "metadata": {},
   "source": [
    "#        MACHINE LEARNING ASSIGNMENT 1 - ANUSHRI JAIN(101903678)"
   ]
  },
  {
   "cell_type": "code",
   "execution_count": 1,
   "metadata": {},
   "outputs": [
    {
     "name": "stdout",
     "output_type": "stream",
     "text": [
      "['Hi', 'there', 'Class!']\n"
     ]
    }
   ],
   "source": [
    "#QUESTION 1\n",
    "\n",
    "def split(word):\n",
    "    return [char for char in word]\n",
    "s=\"Hi there Class!\"\n",
    "print(s.split())"
   ]
  },
  {
   "cell_type": "code",
   "execution_count": 2,
   "metadata": {},
   "outputs": [
    {
     "name": "stdout",
     "output_type": "stream",
     "text": [
      "The diameter of Earth is 12742\n"
     ]
    }
   ],
   "source": [
    "#QUESTION 2\n",
    "\n",
    "planet=\"Earth\"\n",
    "diameter=12742\n",
    "\n",
    "print(f'The diameter of {planet} is {diameter}')"
   ]
  },
  {
   "cell_type": "code",
   "execution_count": 3,
   "metadata": {},
   "outputs": [
    {
     "name": "stdout",
     "output_type": "stream",
     "text": [
      "['hello']\n"
     ]
    }
   ],
   "source": [
    "#QUESTION 3\n",
    "\n",
    "lst=[1,2,[3,4],[5,[100,200,['hello']],23,11],1,7]\n",
    "print(lst[3][1][2])"
   ]
  },
  {
   "cell_type": "code",
   "execution_count": 4,
   "metadata": {},
   "outputs": [
    {
     "name": "stdout",
     "output_type": "stream",
     "text": [
      "hello\n"
     ]
    }
   ],
   "source": [
    "#QUESTION 4\n",
    "\n",
    "d={'k1':[1,2,3,{'tricky':['oh','man','inception',{'target':[1,2,3,'hello']}]}]}\n",
    "print(d['k1'][3]['tricky'][3]['target'][3])"
   ]
  },
  {
   "cell_type": "code",
   "execution_count": 5,
   "metadata": {},
   "outputs": [
    {
     "name": "stdout",
     "output_type": "stream",
     "text": [
      "PLEASE ENTER YOUR EMAIL:>anushri2325@gmail.com\n",
      "YOUR DOAMIN IS: gmail.com\n"
     ]
    }
   ],
   "source": [
    "#QUESTION 5\n",
    "\n",
    "def domainGet(email):\n",
    "    print(\"YOUR DOAMIN IS: \" + email.split('@')[-1])\n",
    "email=input(\"PLEASE ENTER YOUR EMAIL:>\")\n",
    "domainGet(email)"
   ]
  },
  {
   "cell_type": "code",
   "execution_count": 6,
   "metadata": {},
   "outputs": [
    {
     "name": "stdout",
     "output_type": "stream",
     "text": [
      "TRUE\n",
      "FALSE\n"
     ]
    }
   ],
   "source": [
    "#QUESTION 6\n",
    "\n",
    "def finddog(line):\n",
    "    if 'dog' in line.lower():\n",
    "        print(\"TRUE\")\n",
    "    else:\n",
    "        print(\"FALSE\")\n",
    "line=\"there was a street dog romaing outside\"\n",
    "finddog(line)\n",
    "line2=\"thapar university\"\n",
    "finddog(line2)"
   ]
  },
  {
   "cell_type": "code",
   "execution_count": 7,
   "metadata": {},
   "outputs": [
    {
     "data": {
      "text/plain": [
       "2"
      ]
     },
     "execution_count": 7,
     "metadata": {},
     "output_type": "execute_result"
    }
   ],
   "source": [
    "#QUESTION 7\n",
    "\n",
    "def countdog(line):\n",
    "    count=0\n",
    "    for word in line.lower().split():\n",
    "        if word == 'dog':\n",
    "            count +=1\n",
    "    return count\n",
    "countdog('This dog is a street dog .')"
   ]
  },
  {
   "cell_type": "code",
   "execution_count": 8,
   "metadata": {},
   "outputs": [
    {
     "data": {
      "text/plain": [
       "['soup', 'salad']"
      ]
     },
     "execution_count": 8,
     "metadata": {},
     "output_type": "execute_result"
    }
   ],
   "source": [
    "#QUESTION 8\n",
    "\n",
    "seq = ['soup','dog','salad','cat','great']\n",
    "list(filter(lambda word : word[0]=='s' , seq))"
   ]
  },
  {
   "cell_type": "code",
   "execution_count": 9,
   "metadata": {},
   "outputs": [
    {
     "data": {
      "text/plain": [
       "'Small Challan'"
      ]
     },
     "execution_count": 9,
     "metadata": {},
     "output_type": "execute_result"
    }
   ],
   "source": [
    "#QUESTION 9\n",
    "\n",
    "def caught_speeding(speed, is_birthday):\n",
    "    \n",
    "    if is_birthday:\n",
    "        speeding = speed - 5\n",
    "    else:\n",
    "        speeding = speed\n",
    "    \n",
    "    if speeding > 80:\n",
    "        return 'Big Challan'\n",
    "    elif speeding > 60:\n",
    "        return 'Small Challan'\n",
    "    else:\n",
    "        return 'No Challan'\n",
    "\n",
    "caught_speeding(81,True)\n",
    "\n",
    "# caught_speeding(81,False)"
   ]
  },
  {
   "cell_type": "code",
   "execution_count": 10,
   "metadata": {},
   "outputs": [
    {
     "name": "stdout",
     "output_type": "stream",
     "text": [
      "['My', 'Name', 'is', 'Shelly']\n"
     ]
    }
   ],
   "source": [
    "#QUESTION 10\n",
    "\n",
    "list1=[\"M\",\"Na\",\"i\",\"She\"]\n",
    "list2=[\"y\",\"me\",\"s\",\"lly\"]\n",
    "final=list(map(lambda i, j : i + j, list1, list2))\n",
    "print(final)"
   ]
  },
  {
   "cell_type": "code",
   "execution_count": 11,
   "metadata": {},
   "outputs": [
    {
     "name": "stdout",
     "output_type": "stream",
     "text": [
      "['Hello Dear', 'Hello Sir', 'take Dear', 'take Sir']\n"
     ]
    }
   ],
   "source": [
    "#QUESTION 11\n",
    "\n",
    "list1=[\"Hello \",\"take \"]\n",
    "list2=[\"Dear\",\"Sir\"]\n",
    "resList = [x+y for x in list1 for y in list2]\n",
    "print(resList)"
   ]
  },
  {
   "cell_type": "code",
   "execution_count": 12,
   "metadata": {},
   "outputs": [
    {
     "name": "stdout",
     "output_type": "stream",
     "text": [
      "[10, 20, [300, 400, [5000, 6000, 7000], 500], 30, 40]\n"
     ]
    }
   ],
   "source": [
    "#QUESTION 12\n",
    "\n",
    "list1 = [10, 20, [300, 400, [5000, 6000], 500], 30, 40]\n",
    "list1[2][2].append(7000)\n",
    "print(list1)"
   ]
  },
  {
   "cell_type": "code",
   "execution_count": 13,
   "metadata": {},
   "outputs": [
    {
     "name": "stdout",
     "output_type": "stream",
     "text": [
      "[5, 15, 25, 50]\n"
     ]
    }
   ],
   "source": [
    "#QUESTION 13\n",
    "\n",
    "list1 = [5, 20, 15, 20, 25, 50, 20]\n",
    "\n",
    "def removeValue(sampleList, val):\n",
    "   return [value for value in sampleList if value != val]\n",
    "resList = removeValue(list1, 20)\n",
    "print(resList)"
   ]
  },
  {
   "cell_type": "code",
   "execution_count": 14,
   "metadata": {},
   "outputs": [
    {
     "data": {
      "text/plain": [
       "True"
      ]
     },
     "execution_count": 14,
     "metadata": {},
     "output_type": "execute_result"
    }
   ],
   "source": [
    "#QUESTION 14\n",
    "\n",
    "dict = {'a':100 , 'b':200 , 'c':300}\n",
    "200 in dict.values()\n",
    "#500 in dict.values()"
   ]
  },
  {
   "cell_type": "code",
   "execution_count": 15,
   "metadata": {},
   "outputs": [
    {
     "name": "stdout",
     "output_type": "stream",
     "text": [
      "23.9112\n"
     ]
    }
   ],
   "source": [
    "#QUESTION 15\n",
    "\n",
    "import math\n",
    "\n",
    "def sumOfSeries( n ):\n",
    "    return 0.0246 * (math.pow(10, n) - 1 - (9 * n))\n",
    "     \n",
    "n = 3\n",
    "print( sumOfSeries(n))"
   ]
  },
  {
   "cell_type": "code",
   "execution_count": null,
   "metadata": {},
   "outputs": [],
   "source": []
  }
 ],
 "metadata": {
  "kernelspec": {
   "display_name": "Python 3",
   "language": "python",
   "name": "python3"
  },
  "language_info": {
   "codemirror_mode": {
    "name": "ipython",
    "version": 3
   },
   "file_extension": ".py",
   "mimetype": "text/x-python",
   "name": "python",
   "nbconvert_exporter": "python",
   "pygments_lexer": "ipython3",
   "version": "3.7.6"
  }
 },
 "nbformat": 4,
 "nbformat_minor": 4
}
