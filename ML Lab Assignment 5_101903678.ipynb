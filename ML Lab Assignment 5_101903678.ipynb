{
 "cells": [
  {
   "cell_type": "markdown",
   "metadata": {
    "id": "7-kCJwB6xNS2"
   },
   "source": [
    "## MACHINE LEARNING ASSIGNMENT 5 - ANUSHRI JAIN(101903678)"
   ]
  },
  {
   "cell_type": "markdown",
   "metadata": {},
   "source": [
    "<b>Question 1: Implement the Simple Linear Regression for the data given below and predict the house price for\n",
    "a house with plot size 3000, 2000 and 1500 feet:</b>"
   ]
  },
  {
   "cell_type": "code",
   "execution_count": 1,
   "metadata": {
    "executionInfo": {
     "elapsed": 20,
     "status": "ok",
     "timestamp": 1631513374568,
     "user": {
      "displayName": "Arpit Arora",
      "photoUrl": "https://lh3.googleusercontent.com/a-/AOh14GjPkZAatxi3dp4_zQVtfjI41D3-udnfi1SYy_jr=s64",
      "userId": "08826289019736461940"
     },
     "user_tz": -330
    },
    "id": "74_WnsiBxYed"
   },
   "outputs": [],
   "source": [
    "#Simple Linear Regression\n",
    "import numpy as np\n",
    "import matplotlib.pyplot as plt"
   ]
  },
  {
   "cell_type": "code",
   "execution_count": 2,
   "metadata": {
    "executionInfo": {
     "elapsed": 498,
     "status": "ok",
     "timestamp": 1631513554962,
     "user": {
      "displayName": "Arpit Arora",
      "photoUrl": "https://lh3.googleusercontent.com/a-/AOh14GjPkZAatxi3dp4_zQVtfjI41D3-udnfi1SYy_jr=s64",
      "userId": "08826289019736461940"
     },
     "user_tz": -330
    },
    "id": "IaAkNr7Yxnb5"
   },
   "outputs": [],
   "source": [
    "#now defining input feature square feet as x\n",
    "x=np.array([1400, 1600, 1700, 1875, 1100, 1550, 2350, 2450, 1425, 1700])\n",
    "#and defining output feature house price as y\n",
    "y=np.array([245, 312, 279, 308, 199, 219, 405, 324, 319, 255])"
   ]
  },
  {
   "cell_type": "code",
   "execution_count": 3,
   "metadata": {
    "executionInfo": {
     "elapsed": 610,
     "status": "ok",
     "timestamp": 1631514005237,
     "user": {
      "displayName": "Arpit Arora",
      "photoUrl": "https://lh3.googleusercontent.com/a-/AOh14GjPkZAatxi3dp4_zQVtfjI41D3-udnfi1SYy_jr=s64",
      "userId": "08826289019736461940"
     },
     "user_tz": -330
    },
    "id": "JFtocvcPyT53"
   },
   "outputs": [],
   "source": [
    "#now the aim is to obtain a line y = b0 + b1*x \n",
    "#and estimate coefficients b0 and b1\n",
    "#mathematically going by the equations\n",
    "#defining number of samples\n",
    "n=np.size(x)\n",
    "#b1 or slope m is given by\n",
    "b1 = (n*np.sum(x*y) - np.sum(x)*np.sum(y))/(n*np.sum(x*x) - np.sum(x)*np.sum(x))\n",
    "#b0 or intercept c is given by\n",
    "b0 = (np.sum(y) - b1*np.sum(x))/n"
   ]
  },
  {
   "cell_type": "code",
   "execution_count": 4,
   "metadata": {
    "colab": {
     "base_uri": "https://localhost:8080/"
    },
    "executionInfo": {
     "elapsed": 507,
     "status": "ok",
     "timestamp": 1631514024836,
     "user": {
      "displayName": "Arpit Arora",
      "photoUrl": "https://lh3.googleusercontent.com/a-/AOh14GjPkZAatxi3dp4_zQVtfjI41D3-udnfi1SYy_jr=s64",
      "userId": "08826289019736461940"
     },
     "user_tz": -330
    },
    "id": "F6oWYMml0AnS",
    "outputId": "62dc9760-1291-4619-b7e7-911bb17db950"
   },
   "outputs": [
    {
     "name": "stdout",
     "output_type": "stream",
     "text": [
      "98.24832962138085\n"
     ]
    }
   ],
   "source": [
    "print(b0)"
   ]
  },
  {
   "cell_type": "code",
   "execution_count": 5,
   "metadata": {
    "colab": {
     "base_uri": "https://localhost:8080/"
    },
    "executionInfo": {
     "elapsed": 447,
     "status": "ok",
     "timestamp": 1631514042913,
     "user": {
      "displayName": "Arpit Arora",
      "photoUrl": "https://lh3.googleusercontent.com/a-/AOh14GjPkZAatxi3dp4_zQVtfjI41D3-udnfi1SYy_jr=s64",
      "userId": "08826289019736461940"
     },
     "user_tz": -330
    },
    "id": "Mp32g-wF0H4n",
    "outputId": "0ea639e8-3cf2-41c0-821c-c9b6f501a895"
   },
   "outputs": [
    {
     "name": "stdout",
     "output_type": "stream",
     "text": [
      "0.10976773783009863\n"
     ]
    }
   ],
   "source": [
    "print(b1)"
   ]
  },
  {
   "cell_type": "code",
   "execution_count": 6,
   "metadata": {
    "colab": {
     "base_uri": "https://localhost:8080/"
    },
    "executionInfo": {
     "elapsed": 446,
     "status": "ok",
     "timestamp": 1631514238972,
     "user": {
      "displayName": "Arpit Arora",
      "photoUrl": "https://lh3.googleusercontent.com/a-/AOh14GjPkZAatxi3dp4_zQVtfjI41D3-udnfi1SYy_jr=s64",
      "userId": "08826289019736461940"
     },
     "user_tz": -330
    },
    "id": "Wh0LkiVT0Kyq",
    "outputId": "01374c98-fa56-4902-a95e-26e2df95513b"
   },
   "outputs": [
    {
     "name": "stdout",
     "output_type": "stream",
     "text": [
      "price for 3000 feet:  427.5515431116767\n",
      "price for 2000 feet:  317.7838052815781\n",
      "price for 1500 feet:  262.8999363665288\n"
     ]
    }
   ],
   "source": [
    "#house price for plot size 3000, 2000 and 1500 feet \n",
    "Y = b0 + b1*3000\n",
    "print('price for 3000 feet: ', Y)\n",
    "Y = b0 + b1*2000\n",
    "print('price for 2000 feet: ', Y)\n",
    "Y = b0 + b1*1500\n",
    "print('price for 1500 feet: ', Y)"
   ]
  },
  {
   "cell_type": "code",
   "execution_count": 7,
   "metadata": {
    "colab": {
     "base_uri": "https://localhost:8080/",
     "height": 297
    },
    "executionInfo": {
     "elapsed": 622,
     "status": "ok",
     "timestamp": 1631515008116,
     "user": {
      "displayName": "Arpit Arora",
      "photoUrl": "https://lh3.googleusercontent.com/a-/AOh14GjPkZAatxi3dp4_zQVtfjI41D3-udnfi1SYy_jr=s64",
      "userId": "08826289019736461940"
     },
     "user_tz": -330
    },
    "id": "MHqKFcAv2c9B",
    "outputId": "9010de4b-7680-421e-dfef-a8665d8c35e7"
   },
   "outputs": [
    {
     "data": {
      "text/plain": [
       "Text(0, 0.5, 'House Price (in $1000s)')"
      ]
     },
     "execution_count": 7,
     "metadata": {},
     "output_type": "execute_result"
    },
    {
     "data": {
      "image/png": "[encoded data removed]",
      "text/plain": [
       "<Figure size 432x288 with 1 Axes>"
      ]
     },
     "metadata": {
      "needs_background": "light"
     },
     "output_type": "display_data"
    }
   ],
   "source": [
    "#plotting the actual points as scatter plot\n",
    "plt.scatter(x, y, color=\"b\", marker=\"o\", s=30)\n",
    "#plotting the predicted line\n",
    "y_predicted = b0 + b1*x\n",
    "plt.plot(x, y_predicted, color=\"g\")\n",
    "#putting labels\n",
    "plt.xlabel('Area (square feet)')\n",
    "plt.ylabel('House Price (in $1000s)')"
   ]
  },
  {
   "cell_type": "markdown",
   "metadata": {},
   "source": [
    "<b>Question 2: Implement the Multiple Linear Regression for the data given below and predict the stock index\n",
    "price if interest rate is 1.5 and unemployment rate is 5.8.</b>"
   ]
  },
  {
   "cell_type": "code",
   "execution_count": 8,
   "metadata": {
    "colab": {
     "base_uri": "https://localhost:8080/"
    },
    "executionInfo": {
     "elapsed": 493,
     "status": "ok",
     "timestamp": 1631515711031,
     "user": {
      "displayName": "Arpit Arora",
      "photoUrl": "https://lh3.googleusercontent.com/a-/AOh14GjPkZAatxi3dp4_zQVtfjI41D3-udnfi1SYy_jr=s64",
      "userId": "08826289019736461940"
     },
     "user_tz": -330
    },
    "id": "4gNR_iXt2t3y",
    "outputId": "dc321392-2367-4173-9d96-82c1df192e6c"
   },
   "outputs": [],
   "source": [
    "#Multiple Linear Regression\n",
    "#defining interest rate as input feature x1\n",
    "x1=np.array([2.75, 2.5, 2.5, 2.5, 2.5, 2.5, 2.5, 2.25, 2.25, 2.25, 2, 2, 2, 1.75, 1.75, 1.75, 1.75, 1.75, 1.75, 1.75, 1.75, 1.75, 1.75, 1.75])\n",
    "#defining unemployement rate as input feature x2\n",
    "x2=np.array([5.3, 5.3, 5.3, 5.3, 5.4, 5.6, 5.5, 5.5, 5.5, 5.6, 5.7, 5.9, 6, 5.9, 5.8, 6.1, 6.2, 6.1, 6.1, 6.1, 5.9, 6.2, 6.2, 6.1])\n",
    "#defining stock price index as output feature y\n",
    "y=np.array([1464, 1394, 1357, 1293, 1256, 1254, 1234, 1195, 1159, 1167, 1130, 1075, 1047, 965, 943, 958, 971, 949, 884, 866, 876, 822, 704, 719])"
   ]
  },
  {
   "cell_type": "code",
   "execution_count": 9,
   "metadata": {},
   "outputs": [
    {
     "name": "stdout",
     "output_type": "stream",
     "text": [
      "[[1.   2.75 5.3 ]\n",
      " [1.   2.5  5.3 ]\n",
      " [1.   2.5  5.3 ]\n",
      " [1.   2.5  5.3 ]\n",
      " [1.   2.5  5.4 ]\n",
      " [1.   2.5  5.6 ]\n",
      " [1.   2.5  5.5 ]\n",
      " [1.   2.25 5.5 ]\n",
      " [1.   2.25 5.5 ]\n",
      " [1.   2.25 5.6 ]\n",
      " [1.   2.   5.7 ]\n",
      " [1.   2.   5.9 ]\n",
      " [1.   2.   6.  ]\n",
      " [1.   1.75 5.9 ]\n",
      " [1.   1.75 5.8 ]\n",
      " [1.   1.75 6.1 ]\n",
      " [1.   1.75 6.2 ]\n",
      " [1.   1.75 6.1 ]\n",
      " [1.   1.75 6.1 ]\n",
      " [1.   1.75 6.1 ]\n",
      " [1.   1.75 5.9 ]\n",
      " [1.   1.75 6.2 ]\n",
      " [1.   1.75 6.2 ]\n",
      " [1.   1.75 6.1 ]]\n"
     ]
    }
   ],
   "source": [
    "#now the aim is to obtain an equation of the form\n",
    "#y=b0 + b1*x1 + b2*x2\n",
    "#mathematically going by the equation\n",
    "#defining the input feature matrix\n",
    "x0=np.ones((24))\n",
    "X=np.stack((x0, x1, x2), axis=1)\n",
    "print(X)"
   ]
  },
  {
   "cell_type": "code",
   "execution_count": 10,
   "metadata": {},
   "outputs": [
    {
     "data": {
      "text/plain": [
       "array([[1798.40397763],\n",
       "       [ 345.54008701],\n",
       "       [-250.14657137]])"
      ]
     },
     "execution_count": 10,
     "metadata": {},
     "output_type": "execute_result"
    }
   ],
   "source": [
    "#now computing the coefficient matrix\n",
    "#the np.dot() method is used for multiplication of matrices\n",
    "#B=((X.transpose()*X)^(-1))*X.transpose()*y\n",
    "result=np.linalg.inv(np.dot(X.transpose(), X))\n",
    "#to make y a column vector\n",
    "y=y.reshape(-1, 1)\n",
    "result=np.dot(result, X.transpose())\n",
    "#the coefficient matrix\n",
    "beta_matrix=np.dot(result, y)\n",
    "beta_matrix"
   ]
  },
  {
   "cell_type": "code",
   "execution_count": 11,
   "metadata": {},
   "outputs": [],
   "source": [
    "#the coefficients\n",
    "b0=beta_matrix[0]\n",
    "b1=beta_matrix[1]\n",
    "b2=beta_matrix[2]"
   ]
  },
  {
   "cell_type": "code",
   "execution_count": 13,
   "metadata": {},
   "outputs": [
    {
     "name": "stdout",
     "output_type": "stream",
     "text": [
      "[865.8639942]\n"
     ]
    }
   ],
   "source": [
    "#the obtained line is given by\n",
    "#y= b0 + b1*x1 + b2*x2\n",
    "#now predict the output when x1=1.5 and x2=5.8\n",
    "stock_price= b0 + b1*1.5 + b2*5.8\n",
    "print(stock_price)"
   ]
  },
  {
   "cell_type": "code",
   "execution_count": null,
   "metadata": {},
   "outputs": [],
   "source": []
  }
 ],
 "metadata": {
  "colab": {
   "authorship_tag": "ABX9TyM5H9G53tsgBm4JWgmCm+Os",
   "collapsed_sections": [],
   "name": "ML Lab Assignment 5_101917024.ipynb",
   "provenance": []
  },
  "kernelspec": {
   "display_name": "Python 3",
   "language": "python",
   "name": "python3"
  },
  "language_info": {
   "codemirror_mode": {
    "name": "ipython",
    "version": 3
   },
   "file_extension": ".py",
   "mimetype": "text/x-python",
   "name": "python",
   "nbconvert_exporter": "python",
   "pygments_lexer": "ipython3",
   "version": "3.7.6"
  }
 },
 "nbformat": 4,
 "nbformat_minor": 1
}
